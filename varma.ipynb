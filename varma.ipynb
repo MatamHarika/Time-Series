{
 "cells": [
  {
   "cell_type": "code",
   "execution_count": null,
   "id": "84673d4b-0e6e-4504-8b10-b9ed2c3ebf05",
   "metadata": {},
   "outputs": [],
   "source": [
    "from statsmodels.tsa.statespace.varmax import VARMAX\n",
    "def select_varmax_order(df_modified, max_ar=20,max_ma=20):\n",
    "    results=[]\n",
    "    for p in range(1,max_ar+1):\n",
    "        for q in range(1,max_ma+1):\n",
    "            model=VARMAX(df_modified, order=(p,q))\n",
    "            result=model.fit(disp=False)\n",
    "            results.append({\n",
    "            'p':p,\n",
    "            'q': q,\n",
    "            'AIC': result.aic,\n",
    "            'BIC': result.bic,\n",
    "            'HQIC': result.hqic\n",
    "            })\n",
    "    return pd.DataFrame(results)\n",
    "\n",
    "res=select_varmax_order(df_modified, max_ar=20,max_ma=20)\n",
    "best_p=res.loc[res['AIC'].idxmin(),'p']\n",
    "best_q=res.loc[res['AIC'].idxmin(),'q']\n",
    "best_model=VARMAX(df_modified,order=(best_p,best_q))\n",
    "result=best_model.fit()\n",
    "print(best_model.summary())"
   ]
  }
 ],
 "metadata": {
  "kernelspec": {
   "display_name": "Python 3 (ipykernel)",
   "language": "python",
   "name": "python3"
  },
  "language_info": {
   "codemirror_mode": {
    "name": "ipython",
    "version": 3
   },
   "file_extension": ".py",
   "mimetype": "text/x-python",
   "name": "python",
   "nbconvert_exporter": "python",
   "pygments_lexer": "ipython3",
   "version": "3.9.0"
  }
 },
 "nbformat": 4,
 "nbformat_minor": 5
}
